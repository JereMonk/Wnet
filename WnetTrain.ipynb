{
 "cells": [
  {
   "cell_type": "code",
   "execution_count": 1,
   "metadata": {
    "ExecuteTime": {
     "end_time": "2021-06-15T10:05:26.847383Z",
     "start_time": "2021-06-15T10:05:26.836210Z"
    }
   },
   "outputs": [],
   "source": [
    "%load_ext autoreload\n",
    "%autoreload 2\n",
    "\n",
    "import warnings\n",
    "warnings.filterwarnings(\"ignore\")\n"
   ]
  },
  {
   "cell_type": "code",
   "execution_count": 2,
   "metadata": {
    "ExecuteTime": {
     "end_time": "2021-06-15T10:05:35.763401Z",
     "start_time": "2021-06-15T10:05:27.572437Z"
    }
   },
   "outputs": [],
   "source": [
    "import pickle\n",
    "import os\n",
    "import numpy as np\n",
    "import matplotlib.pyplot as plt\n",
    "import time\n",
    "import h5py\n",
    "import PIL\n",
    "import pandas as pd\n",
    "from tensorflow.keras.layers import *\n",
    "from tensorflow.keras.layers import Dense,MaxPool2D,Conv2D,Conv2DTranspose,Conv2D,Conv2DTranspose,BatchNormalization,Input,ReLU,Add,Lambda,LeakyReLU,Flatten,Dropout\n",
    "from tensorflow.keras.models import Model\n",
    "from tensorflow import Tensor\n",
    "from tensorflow.keras.models import load_model\n",
    "import tensorflow as tf\n",
    "from tensorflow.keras.utils import Sequence\n",
    "import random\n",
    "\n",
    "from importlib import reload \n",
    "from monk import Dataset\n",
    "   \n",
    "from PIL import Image \n",
    "import PIL \n",
    "  \n"
   ]
  },
  {
   "cell_type": "code",
   "execution_count": 3,
   "metadata": {
    "ExecuteTime": {
     "end_time": "2021-06-15T10:05:35.809311Z",
     "start_time": "2021-06-15T10:05:35.764838Z"
    }
   },
   "outputs": [],
   "source": [
    "import ncut_loss\n",
    "import build_Unet\n",
    "import build_Wnet\n",
    "import getData"
   ]
  },
  {
   "cell_type": "markdown",
   "metadata": {},
   "source": [
    "# DATA"
   ]
  },
  {
   "cell_type": "code",
   "execution_count": 4,
   "metadata": {
    "ExecuteTime": {
     "end_time": "2021-06-15T10:06:13.966574Z",
     "start_time": "2021-06-15T10:05:36.924563Z"
    }
   },
   "outputs": [],
   "source": [
    "#dataset_parts = Dataset.from_coco('/home/ubuntu/shared/data/meta/annotations/gold_standard/2021-06/parts_2021-06_train.json')\n",
    "to_keep = [\"bumper_back\",\"bumper_front\",\"door_back_left\",\"door_back_right\",\"door_front_left\",    \n",
    "\"door_front_right\",\"fender_back_left\",\"fender_back_right\",\"fender_front_left\",\"fender_front_right\"]    \n",
    "#dataset_filtered = dataset_parts.filter_images_with_cats(keep=to_keep).filter_cats(keep=to_keep)\n",
    "\n"
   ]
  },
  {
   "cell_type": "code",
   "execution_count": 41,
   "metadata": {
    "ExecuteTime": {
     "end_time": "2021-06-15T10:06:40.012317Z",
     "start_time": "2021-06-15T10:06:39.922784Z"
    }
   },
   "outputs": [
    {
     "data": {
      "application/vnd.jupyter.widget-view+json": {
       "model_id": "3e1c04016ddf42ceb9f55c85f7fa8bd4",
       "version_major": 2,
       "version_minor": 0
      },
      "text/plain": [
       "Importing from COCO JSON:   8%|7         | 894/11876 [00:01<00:12, 893.52it/s]"
      ]
     },
     "metadata": {},
     "output_type": "display_data"
    }
   ],
   "source": [
    "path = '/home/ubuntu/shared/data/meta/annotations/gold_standard/2021-06/parts_2021-06_train.json'\n",
    "gen = getData.get_generator(path,128,1,to_keep)"
   ]
  },
  {
   "cell_type": "code",
   "execution_count": 7,
   "metadata": {
    "ExecuteTime": {
     "end_time": "2021-06-15T10:06:42.915565Z",
     "start_time": "2021-06-15T10:06:42.874631Z"
    }
   },
   "outputs": [],
   "source": [
    "def rescale(image):\n",
    "    return( (((image+1)/2)*255 ).astype(\"uint8\") )"
   ]
  },
  {
   "cell_type": "code",
   "execution_count": 8,
   "metadata": {
    "ExecuteTime": {
     "end_time": "2021-06-15T10:07:25.647284Z",
     "start_time": "2021-06-15T10:07:25.382265Z"
    },
    "collapsed": true
   },
   "outputs": [
    {
     "ename": "InvalidArgumentError",
     "evalue": "slice index 1 of dimension 0 out of bounds. [Op:StridedSlice] name: strided_slice/",
     "output_type": "error",
     "traceback": [
      "\u001b[0;31m---------------------------------------------------------------------------\u001b[0m",
      "\u001b[0;31mInvalidArgumentError\u001b[0m                      Traceback (most recent call last)",
      "\u001b[0;32m<ipython-input-8-1f26e2c103f7>\u001b[0m in \u001b[0;36m<module>\u001b[0;34m\u001b[0m\n\u001b[1;32m      4\u001b[0m \u001b[0mplt\u001b[0m\u001b[0;34m.\u001b[0m\u001b[0mimshow\u001b[0m\u001b[0;34m(\u001b[0m\u001b[0mrescale\u001b[0m\u001b[0;34m(\u001b[0m\u001b[0mitems\u001b[0m\u001b[0;34m[\u001b[0m\u001b[0;36m0\u001b[0m\u001b[0;34m]\u001b[0m\u001b[0;34m.\u001b[0m\u001b[0mnumpy\u001b[0m\u001b[0;34m(\u001b[0m\u001b[0;34m)\u001b[0m\u001b[0;34m)\u001b[0m\u001b[0;34m)\u001b[0m\u001b[0;34m\u001b[0m\u001b[0;34m\u001b[0m\u001b[0m\n\u001b[1;32m      5\u001b[0m \u001b[0mplt\u001b[0m\u001b[0;34m.\u001b[0m\u001b[0msubplot\u001b[0m\u001b[0;34m(\u001b[0m\u001b[0;36m1\u001b[0m\u001b[0;34m,\u001b[0m\u001b[0;36m3\u001b[0m\u001b[0;34m,\u001b[0m\u001b[0;36m2\u001b[0m\u001b[0;34m)\u001b[0m\u001b[0;34m\u001b[0m\u001b[0;34m\u001b[0m\u001b[0m\n\u001b[0;32m----> 6\u001b[0;31m \u001b[0mplt\u001b[0m\u001b[0;34m.\u001b[0m\u001b[0mimshow\u001b[0m\u001b[0;34m(\u001b[0m\u001b[0mrescale\u001b[0m\u001b[0;34m(\u001b[0m\u001b[0mitems\u001b[0m\u001b[0;34m[\u001b[0m\u001b[0;36m1\u001b[0m\u001b[0;34m]\u001b[0m\u001b[0;34m.\u001b[0m\u001b[0mnumpy\u001b[0m\u001b[0;34m(\u001b[0m\u001b[0;34m)\u001b[0m\u001b[0;34m)\u001b[0m\u001b[0;34m)\u001b[0m\u001b[0;34m\u001b[0m\u001b[0;34m\u001b[0m\u001b[0m\n\u001b[0m\u001b[1;32m      7\u001b[0m \u001b[0mplt\u001b[0m\u001b[0;34m.\u001b[0m\u001b[0msubplot\u001b[0m\u001b[0;34m(\u001b[0m\u001b[0;36m1\u001b[0m\u001b[0;34m,\u001b[0m\u001b[0;36m3\u001b[0m\u001b[0;34m,\u001b[0m\u001b[0;36m3\u001b[0m\u001b[0;34m)\u001b[0m\u001b[0;34m\u001b[0m\u001b[0;34m\u001b[0m\u001b[0m\n\u001b[1;32m      8\u001b[0m \u001b[0mplt\u001b[0m\u001b[0;34m.\u001b[0m\u001b[0mimshow\u001b[0m\u001b[0;34m(\u001b[0m\u001b[0mrescale\u001b[0m\u001b[0;34m(\u001b[0m\u001b[0mitems\u001b[0m\u001b[0;34m[\u001b[0m\u001b[0;36m2\u001b[0m\u001b[0;34m]\u001b[0m\u001b[0;34m.\u001b[0m\u001b[0mnumpy\u001b[0m\u001b[0;34m(\u001b[0m\u001b[0;34m)\u001b[0m\u001b[0;34m)\u001b[0m\u001b[0;34m)\u001b[0m\u001b[0;34m\u001b[0m\u001b[0;34m\u001b[0m\u001b[0m\n",
      "\u001b[0;32m~/anaconda3/envs/jeremy/lib/python3.8/site-packages/tensorflow/python/util/dispatch.py\u001b[0m in \u001b[0;36mwrapper\u001b[0;34m(*args, **kwargs)\u001b[0m\n\u001b[1;32m    199\u001b[0m     \u001b[0;34m\"\"\"Call target, and fall back on dispatchers if there is a TypeError.\"\"\"\u001b[0m\u001b[0;34m\u001b[0m\u001b[0;34m\u001b[0m\u001b[0m\n\u001b[1;32m    200\u001b[0m     \u001b[0;32mtry\u001b[0m\u001b[0;34m:\u001b[0m\u001b[0;34m\u001b[0m\u001b[0;34m\u001b[0m\u001b[0m\n\u001b[0;32m--> 201\u001b[0;31m       \u001b[0;32mreturn\u001b[0m \u001b[0mtarget\u001b[0m\u001b[0;34m(\u001b[0m\u001b[0;34m*\u001b[0m\u001b[0margs\u001b[0m\u001b[0;34m,\u001b[0m \u001b[0;34m**\u001b[0m\u001b[0mkwargs\u001b[0m\u001b[0;34m)\u001b[0m\u001b[0;34m\u001b[0m\u001b[0;34m\u001b[0m\u001b[0m\n\u001b[0m\u001b[1;32m    202\u001b[0m     \u001b[0;32mexcept\u001b[0m \u001b[0;34m(\u001b[0m\u001b[0mTypeError\u001b[0m\u001b[0;34m,\u001b[0m \u001b[0mValueError\u001b[0m\u001b[0;34m)\u001b[0m\u001b[0;34m:\u001b[0m\u001b[0;34m\u001b[0m\u001b[0;34m\u001b[0m\u001b[0m\n\u001b[1;32m    203\u001b[0m       \u001b[0;31m# Note: convert_to_eager_tensor currently raises a ValueError, not a\u001b[0m\u001b[0;34m\u001b[0m\u001b[0;34m\u001b[0m\u001b[0;34m\u001b[0m\u001b[0m\n",
      "\u001b[0;32m~/anaconda3/envs/jeremy/lib/python3.8/site-packages/tensorflow/python/ops/array_ops.py\u001b[0m in \u001b[0;36m_slice_helper\u001b[0;34m(tensor, slice_spec, var)\u001b[0m\n\u001b[1;32m   1011\u001b[0m       \u001b[0mvar_empty\u001b[0m \u001b[0;34m=\u001b[0m \u001b[0mconstant\u001b[0m\u001b[0;34m(\u001b[0m\u001b[0;34m[\u001b[0m\u001b[0;34m]\u001b[0m\u001b[0;34m,\u001b[0m \u001b[0mdtype\u001b[0m\u001b[0;34m=\u001b[0m\u001b[0mdtypes\u001b[0m\u001b[0;34m.\u001b[0m\u001b[0mint32\u001b[0m\u001b[0;34m)\u001b[0m\u001b[0;34m\u001b[0m\u001b[0;34m\u001b[0m\u001b[0m\n\u001b[1;32m   1012\u001b[0m       \u001b[0mpacked_begin\u001b[0m \u001b[0;34m=\u001b[0m \u001b[0mpacked_end\u001b[0m \u001b[0;34m=\u001b[0m \u001b[0mpacked_strides\u001b[0m \u001b[0;34m=\u001b[0m \u001b[0mvar_empty\u001b[0m\u001b[0;34m\u001b[0m\u001b[0;34m\u001b[0m\u001b[0m\n\u001b[0;32m-> 1013\u001b[0;31m     return strided_slice(\n\u001b[0m\u001b[1;32m   1014\u001b[0m         \u001b[0mtensor\u001b[0m\u001b[0;34m,\u001b[0m\u001b[0;34m\u001b[0m\u001b[0;34m\u001b[0m\u001b[0m\n\u001b[1;32m   1015\u001b[0m         \u001b[0mpacked_begin\u001b[0m\u001b[0;34m,\u001b[0m\u001b[0;34m\u001b[0m\u001b[0;34m\u001b[0m\u001b[0m\n",
      "\u001b[0;32m~/anaconda3/envs/jeremy/lib/python3.8/site-packages/tensorflow/python/util/dispatch.py\u001b[0m in \u001b[0;36mwrapper\u001b[0;34m(*args, **kwargs)\u001b[0m\n\u001b[1;32m    199\u001b[0m     \u001b[0;34m\"\"\"Call target, and fall back on dispatchers if there is a TypeError.\"\"\"\u001b[0m\u001b[0;34m\u001b[0m\u001b[0;34m\u001b[0m\u001b[0m\n\u001b[1;32m    200\u001b[0m     \u001b[0;32mtry\u001b[0m\u001b[0;34m:\u001b[0m\u001b[0;34m\u001b[0m\u001b[0;34m\u001b[0m\u001b[0m\n\u001b[0;32m--> 201\u001b[0;31m       \u001b[0;32mreturn\u001b[0m \u001b[0mtarget\u001b[0m\u001b[0;34m(\u001b[0m\u001b[0;34m*\u001b[0m\u001b[0margs\u001b[0m\u001b[0;34m,\u001b[0m \u001b[0;34m**\u001b[0m\u001b[0mkwargs\u001b[0m\u001b[0;34m)\u001b[0m\u001b[0;34m\u001b[0m\u001b[0;34m\u001b[0m\u001b[0m\n\u001b[0m\u001b[1;32m    202\u001b[0m     \u001b[0;32mexcept\u001b[0m \u001b[0;34m(\u001b[0m\u001b[0mTypeError\u001b[0m\u001b[0;34m,\u001b[0m \u001b[0mValueError\u001b[0m\u001b[0;34m)\u001b[0m\u001b[0;34m:\u001b[0m\u001b[0;34m\u001b[0m\u001b[0;34m\u001b[0m\u001b[0m\n\u001b[1;32m    203\u001b[0m       \u001b[0;31m# Note: convert_to_eager_tensor currently raises a ValueError, not a\u001b[0m\u001b[0;34m\u001b[0m\u001b[0;34m\u001b[0m\u001b[0;34m\u001b[0m\u001b[0m\n",
      "\u001b[0;32m~/anaconda3/envs/jeremy/lib/python3.8/site-packages/tensorflow/python/ops/array_ops.py\u001b[0m in \u001b[0;36mstrided_slice\u001b[0;34m(input_, begin, end, strides, begin_mask, end_mask, ellipsis_mask, new_axis_mask, shrink_axis_mask, var, name)\u001b[0m\n\u001b[1;32m   1184\u001b[0m     \u001b[0mstrides\u001b[0m \u001b[0;34m=\u001b[0m \u001b[0mones_like\u001b[0m\u001b[0;34m(\u001b[0m\u001b[0mbegin\u001b[0m\u001b[0;34m)\u001b[0m\u001b[0;34m\u001b[0m\u001b[0;34m\u001b[0m\u001b[0m\n\u001b[1;32m   1185\u001b[0m \u001b[0;34m\u001b[0m\u001b[0m\n\u001b[0;32m-> 1186\u001b[0;31m   op = gen_array_ops.strided_slice(\n\u001b[0m\u001b[1;32m   1187\u001b[0m       \u001b[0minput\u001b[0m\u001b[0;34m=\u001b[0m\u001b[0minput_\u001b[0m\u001b[0;34m,\u001b[0m\u001b[0;34m\u001b[0m\u001b[0;34m\u001b[0m\u001b[0m\n\u001b[1;32m   1188\u001b[0m       \u001b[0mbegin\u001b[0m\u001b[0;34m=\u001b[0m\u001b[0mbegin\u001b[0m\u001b[0;34m,\u001b[0m\u001b[0;34m\u001b[0m\u001b[0;34m\u001b[0m\u001b[0m\n",
      "\u001b[0;32m~/anaconda3/envs/jeremy/lib/python3.8/site-packages/tensorflow/python/ops/gen_array_ops.py\u001b[0m in \u001b[0;36mstrided_slice\u001b[0;34m(input, begin, end, strides, begin_mask, end_mask, ellipsis_mask, new_axis_mask, shrink_axis_mask, name)\u001b[0m\n\u001b[1;32m  10318\u001b[0m       \u001b[0;32mreturn\u001b[0m \u001b[0m_result\u001b[0m\u001b[0;34m\u001b[0m\u001b[0;34m\u001b[0m\u001b[0m\n\u001b[1;32m  10319\u001b[0m     \u001b[0;32mexcept\u001b[0m \u001b[0m_core\u001b[0m\u001b[0;34m.\u001b[0m\u001b[0m_NotOkStatusException\u001b[0m \u001b[0;32mas\u001b[0m \u001b[0me\u001b[0m\u001b[0;34m:\u001b[0m\u001b[0;34m\u001b[0m\u001b[0;34m\u001b[0m\u001b[0m\n\u001b[0;32m> 10320\u001b[0;31m       \u001b[0m_ops\u001b[0m\u001b[0;34m.\u001b[0m\u001b[0mraise_from_not_ok_status\u001b[0m\u001b[0;34m(\u001b[0m\u001b[0me\u001b[0m\u001b[0;34m,\u001b[0m \u001b[0mname\u001b[0m\u001b[0;34m)\u001b[0m\u001b[0;34m\u001b[0m\u001b[0;34m\u001b[0m\u001b[0m\n\u001b[0m\u001b[1;32m  10321\u001b[0m     \u001b[0;32mexcept\u001b[0m \u001b[0m_core\u001b[0m\u001b[0;34m.\u001b[0m\u001b[0m_FallbackException\u001b[0m\u001b[0;34m:\u001b[0m\u001b[0;34m\u001b[0m\u001b[0;34m\u001b[0m\u001b[0m\n\u001b[1;32m  10322\u001b[0m       \u001b[0;32mpass\u001b[0m\u001b[0;34m\u001b[0m\u001b[0;34m\u001b[0m\u001b[0m\n",
      "\u001b[0;32m~/anaconda3/envs/jeremy/lib/python3.8/site-packages/tensorflow/python/framework/ops.py\u001b[0m in \u001b[0;36mraise_from_not_ok_status\u001b[0;34m(e, name)\u001b[0m\n\u001b[1;32m   6841\u001b[0m   \u001b[0mmessage\u001b[0m \u001b[0;34m=\u001b[0m \u001b[0me\u001b[0m\u001b[0;34m.\u001b[0m\u001b[0mmessage\u001b[0m \u001b[0;34m+\u001b[0m \u001b[0;34m(\u001b[0m\u001b[0;34m\" name: \"\u001b[0m \u001b[0;34m+\u001b[0m \u001b[0mname\u001b[0m \u001b[0;32mif\u001b[0m \u001b[0mname\u001b[0m \u001b[0;32mis\u001b[0m \u001b[0;32mnot\u001b[0m \u001b[0;32mNone\u001b[0m \u001b[0;32melse\u001b[0m \u001b[0;34m\"\"\u001b[0m\u001b[0;34m)\u001b[0m\u001b[0;34m\u001b[0m\u001b[0;34m\u001b[0m\u001b[0m\n\u001b[1;32m   6842\u001b[0m   \u001b[0;31m# pylint: disable=protected-access\u001b[0m\u001b[0;34m\u001b[0m\u001b[0;34m\u001b[0m\u001b[0;34m\u001b[0m\u001b[0m\n\u001b[0;32m-> 6843\u001b[0;31m   \u001b[0msix\u001b[0m\u001b[0;34m.\u001b[0m\u001b[0mraise_from\u001b[0m\u001b[0;34m(\u001b[0m\u001b[0mcore\u001b[0m\u001b[0;34m.\u001b[0m\u001b[0m_status_to_exception\u001b[0m\u001b[0;34m(\u001b[0m\u001b[0me\u001b[0m\u001b[0;34m.\u001b[0m\u001b[0mcode\u001b[0m\u001b[0;34m,\u001b[0m \u001b[0mmessage\u001b[0m\u001b[0;34m)\u001b[0m\u001b[0;34m,\u001b[0m \u001b[0;32mNone\u001b[0m\u001b[0;34m)\u001b[0m\u001b[0;34m\u001b[0m\u001b[0;34m\u001b[0m\u001b[0m\n\u001b[0m\u001b[1;32m   6844\u001b[0m   \u001b[0;31m# pylint: enable=protected-access\u001b[0m\u001b[0;34m\u001b[0m\u001b[0;34m\u001b[0m\u001b[0;34m\u001b[0m\u001b[0m\n\u001b[1;32m   6845\u001b[0m \u001b[0;34m\u001b[0m\u001b[0m\n",
      "\u001b[0;32m~/anaconda3/envs/jeremy/lib/python3.8/site-packages/six.py\u001b[0m in \u001b[0;36mraise_from\u001b[0;34m(value, from_value)\u001b[0m\n",
      "\u001b[0;31mInvalidArgumentError\u001b[0m: slice index 1 of dimension 0 out of bounds. [Op:StridedSlice] name: strided_slice/"
     ]
    },
    {
     "data": {
      "image/png": "[encoded data removed]",
      "text/plain": [
       "<Figure size 432x288 with 2 Axes>"
      ]
     },
     "metadata": {
      "needs_background": "light"
     },
     "output_type": "display_data"
    }
   ],
   "source": [
    "items = gen.__getitem__(100)\n",
    "plt.figure()\n",
    "plt.subplot(1,3,1)\n",
    "plt.imshow(rescale(items[0].numpy()))\n",
    "plt.subplot(1,3,2)\n",
    "plt.imshow(rescale(items[1].numpy()))\n",
    "plt.subplot(1,3,3)\n",
    "plt.imshow(rescale(items[2].numpy()))\n"
   ]
  },
  {
   "cell_type": "code",
   "execution_count": 46,
   "metadata": {
    "ExecuteTime": {
     "end_time": "2021-06-15T10:07:40.391409Z",
     "start_time": "2021-06-15T10:07:40.348865Z"
    }
   },
   "outputs": [],
   "source": [
    "img_crop = gen.__getitem__(0)"
   ]
  },
  {
   "cell_type": "code",
   "execution_count": 47,
   "metadata": {},
   "outputs": [
    {
     "data": {
      "text/plain": [
       "<tf.Tensor: shape=(1, 128, 128, 3), dtype=float32, numpy=\n",
       "array([[[[-0.7254902 , -0.73333335, -0.7490196 ],\n",
       "         [-0.7254902 , -0.73333335, -0.7490196 ],\n",
       "         [-0.70980394, -0.7176471 , -0.73333335],\n",
       "         ...,\n",
       "         [ 0.21568628,  0.25490198,  0.2627451 ],\n",
       "         [ 0.20784314,  0.23921569,  0.24705882],\n",
       "         [ 0.16862746,  0.2       ,  0.20784314]],\n",
       "\n",
       "        [[-0.6313726 , -0.67058825, -0.69411767],\n",
       "         [-0.654902  , -0.6862745 , -0.7019608 ],\n",
       "         [-0.7019608 , -0.70980394, -0.7254902 ],\n",
       "         ...,\n",
       "         [ 0.2       ,  0.22352941,  0.2627451 ],\n",
       "         [ 0.16862746,  0.19215687,  0.23137255],\n",
       "         [ 0.15294118,  0.18431373,  0.21568628]],\n",
       "\n",
       "        [[-0.5686275 , -0.60784316, -0.6313726 ],\n",
       "         [-0.5921569 , -0.62352943, -0.64705884],\n",
       "         [-0.654902  , -0.6627451 , -0.6784314 ],\n",
       "         ...,\n",
       "         [ 0.18431373,  0.20784314,  0.24705882],\n",
       "         [ 0.16078432,  0.18431373,  0.22352941],\n",
       "         [ 0.15294118,  0.1764706 ,  0.21568628]],\n",
       "\n",
       "        ...,\n",
       "\n",
       "        [[-0.23137255, -0.23921569, -0.2627451 ],\n",
       "         [-0.23921569, -0.24705882, -0.2784314 ],\n",
       "         [-0.20784314, -0.21568628, -0.24705882],\n",
       "         ...,\n",
       "         [-0.37254903, -0.4117647 , -0.4745098 ],\n",
       "         [-0.44313726, -0.4745098 , -0.54509807],\n",
       "         [-0.45882353, -0.49019608, -0.56078434]],\n",
       "\n",
       "        [[-0.21568628, -0.22352941, -0.25490198],\n",
       "         [-0.23137255, -0.23137255, -0.27058825],\n",
       "         [-0.22352941, -0.23137255, -0.2627451 ],\n",
       "         ...,\n",
       "         [-0.37254903, -0.40392157, -0.4745098 ],\n",
       "         [-0.3882353 , -0.41960785, -0.49019608],\n",
       "         [-0.38039216, -0.4117647 , -0.48235294]],\n",
       "\n",
       "        [[-0.2       , -0.20784314, -0.23921569],\n",
       "         [-0.20784314, -0.21568628, -0.24705882],\n",
       "         [-0.20784314, -0.22352941, -0.24705882],\n",
       "         ...,\n",
       "         [-0.4117647 , -0.44313726, -0.5137255 ],\n",
       "         [-0.34117648, -0.37254903, -0.44313726],\n",
       "         [-0.28627452, -0.31764707, -0.3882353 ]]]], dtype=float32)>"
      ]
     },
     "execution_count": 47,
     "metadata": {},
     "output_type": "execute_result"
    }
   ],
   "source": [
    "img_crop"
   ]
  },
  {
   "cell_type": "code",
   "execution_count": 33,
   "metadata": {},
   "outputs": [
    {
     "data": {
      "text/plain": [
       "<tf.Tensor: shape=(128, 128, 3), dtype=float32, numpy=\n",
       "array([[[-0.19215685, -0.52156866, -0.8352941 ],\n",
       "        [-0.16862744, -0.78039217, -0.8901961 ],\n",
       "        [-0.08235294, -0.8509804 , -0.92156863],\n",
       "        ...,\n",
       "        [-0.1607843 , -0.2862745 , -0.6313726 ],\n",
       "        [-0.24705881, -0.41176468, -0.7490196 ],\n",
       "        [-0.2862745 , -0.45098037, -0.7882353 ]],\n",
       "\n",
       "       [[-0.2862745 , -0.6627451 , -0.92156863],\n",
       "        [-0.0745098 , -0.78039217, -0.8666667 ],\n",
       "        [ 0.03529418, -0.84313726, -0.8901961 ],\n",
       "        ...,\n",
       "        [-0.11372548, -0.23921567, -0.5137255 ],\n",
       "        [-0.19215685, -0.3333333 , -0.69411767],\n",
       "        [-0.16862744, -0.3333333 , -0.67058825]],\n",
       "\n",
       "       [[-0.24705881, -0.6627451 , -0.8666667 ],\n",
       "        [-0.04313725, -0.8117647 , -0.8901961 ],\n",
       "        [ 0.12941182, -0.81960785, -0.85882354],\n",
       "        ...,\n",
       "        [-0.08235294, -0.19215685, -0.4352941 ],\n",
       "        [-0.1607843 , -0.30196077, -0.654902  ],\n",
       "        [-0.05098039, -0.21568626, -0.5529412 ]],\n",
       "\n",
       "       ...,\n",
       "\n",
       "       [[-0.3098039 , -0.58431375, -0.90588236],\n",
       "        [-0.24705881, -0.52156866, -0.827451  ],\n",
       "        [-0.45098037, -0.70980394, -1.        ],\n",
       "        ...,\n",
       "        [-0.827451  , -0.7647059 , -0.7490196 ],\n",
       "        [-0.827451  , -0.7647059 , -0.7490196 ],\n",
       "        [-0.827451  , -0.7647059 , -0.7490196 ]],\n",
       "\n",
       "       [[-0.36470586, -0.6392157 , -0.9529412 ],\n",
       "        [-0.31764704, -0.5921569 , -0.92156863],\n",
       "        [ 0.12156868, -0.14509803, -0.62352943],\n",
       "        ...,\n",
       "        [-0.85882354, -0.79607844, -0.78039217],\n",
       "        [-0.827451  , -0.7647059 , -0.7490196 ],\n",
       "        [-0.8509804 , -0.7882353 , -0.77254903]],\n",
       "\n",
       "       [[-0.34117645, -0.60784316, -0.92156863],\n",
       "        [-0.38039213, -0.6392157 , -1.        ],\n",
       "        [ 0.21568632, -0.0745098 , -0.60784316],\n",
       "        ...,\n",
       "        [-0.8901961 , -0.827451  , -0.8117647 ],\n",
       "        [-0.88235295, -0.81960785, -0.8039216 ],\n",
       "        [-0.8745098 , -0.8117647 , -0.79607844]]], dtype=float32)>"
      ]
     },
     "execution_count": 33,
     "metadata": {},
     "output_type": "execute_result"
    }
   ],
   "source": [
    "(items[0]/255)*2-1"
   ]
  },
  {
   "cell_type": "code",
   "execution_count": 16,
   "metadata": {},
   "outputs": [
    {
     "data": {
      "text/plain": [
       "array([[[0., 0., 0.],\n",
       "        [0., 0., 0.],\n",
       "        [0., 0., 0.],\n",
       "        ...,\n",
       "        [0., 0., 0.],\n",
       "        [0., 0., 0.],\n",
       "        [0., 0., 0.]],\n",
       "\n",
       "       [[0., 0., 0.],\n",
       "        [0., 0., 0.],\n",
       "        [0., 0., 0.],\n",
       "        ...,\n",
       "        [0., 0., 0.],\n",
       "        [0., 0., 0.],\n",
       "        [0., 0., 0.]],\n",
       "\n",
       "       [[0., 0., 0.],\n",
       "        [0., 0., 0.],\n",
       "        [0., 0., 0.],\n",
       "        ...,\n",
       "        [0., 0., 0.],\n",
       "        [0., 0., 0.],\n",
       "        [0., 0., 0.]],\n",
       "\n",
       "       ...,\n",
       "\n",
       "       [[0., 0., 0.],\n",
       "        [0., 0., 0.],\n",
       "        [0., 0., 0.],\n",
       "        ...,\n",
       "        [0., 0., 0.],\n",
       "        [0., 0., 0.],\n",
       "        [0., 0., 0.]],\n",
       "\n",
       "       [[0., 0., 0.],\n",
       "        [0., 0., 0.],\n",
       "        [0., 0., 0.],\n",
       "        ...,\n",
       "        [0., 0., 0.],\n",
       "        [0., 0., 0.],\n",
       "        [0., 0., 0.]],\n",
       "\n",
       "       [[0., 0., 0.],\n",
       "        [0., 0., 0.],\n",
       "        [0., 0., 0.],\n",
       "        ...,\n",
       "        [0., 0., 0.],\n",
       "        [0., 0., 0.],\n",
       "        [0., 0., 0.]]], dtype=float32)"
      ]
     },
     "execution_count": 16,
     "metadata": {},
     "output_type": "execute_result"
    }
   ],
   "source": [
    "n"
   ]
  },
  {
   "cell_type": "markdown",
   "metadata": {},
   "source": [
    "# MODEL"
   ]
  },
  {
   "cell_type": "code",
   "execution_count": null,
   "metadata": {
    "ExecuteTime": {
     "end_time": "2021-06-15T10:06:46.765855Z",
     "start_time": "2021-06-15T10:06:45.663038Z"
    }
   },
   "outputs": [],
   "source": [
    "neighbor_filter=ncut_loss.neighbor_filter((128,128))"
   ]
  },
  {
   "cell_type": "code",
   "execution_count": null,
   "metadata": {
    "ExecuteTime": {
     "end_time": "2021-06-15T10:06:48.688839Z",
     "start_time": "2021-06-15T10:06:46.767362Z"
    }
   },
   "outputs": [],
   "source": [
    "encoder = build_Unet.build_Unet(K=15,stages = [1,2,3,4],filters = 64,type='encoder',input_size=128)\n",
    "decoder = build_Unet.build_Unet(K=15,stages = [1,2,3,4],filters = 64,type='decoder',input_size=128)\n",
    "wn = build_Wnet.Wnet(encoder,decoder,(128,128))\n",
    "\n",
    "def custom_loss(y_true, y_pred):\n",
    "    return K.mean(y_true - y_pred)**2\n",
    "\n",
    "# Compile the model\n",
    "wn.compile(\n",
    "    optimizer=tf.keras.optimizers.SGD(learning_rate=0.003),\n",
    "    loss_fn_segmentation = ncut_loss.compute_soft_ncuts,\n",
    "    loss_fn_reconstruction = tf.keras.losses.MeanSquaredError()\n",
    ")\n"
   ]
  },
  {
   "cell_type": "code",
   "execution_count": null,
   "metadata": {},
   "outputs": [],
   "source": [
    "wn.save_weights('ckpt2')"
   ]
  },
  {
   "cell_type": "code",
   "execution_count": null,
   "metadata": {
    "ExecuteTime": {
     "end_time": "2021-06-15T10:06:48.744346Z",
     "start_time": "2021-06-15T10:06:48.690394Z"
    }
   },
   "outputs": [],
   "source": [
    "def visualise_seg(image,encoder):\n",
    "    image = tf.expand_dims(image, 0)\n",
    "    seg = encoder(image)\n",
    "    ag = tf.math.argmax(seg, axis=-1, output_type=tf.dtypes.int64)\n",
    "    loss = ncut_loss.compute_soft_ncuts(image,seg,neighbor_filter)\n",
    "    res = wn(image).numpy()[0]\n",
    "    res = rescale(res)\n",
    "    plt.figure()\n",
    "    plt.subplot(1,2,1)\n",
    "    plt.imshow(ag[0])\n",
    "    plt.subplot(1,2,2)\n",
    "    plt.imshow(res)\n",
    "    print(loss)"
   ]
  },
  {
   "cell_type": "code",
   "execution_count": null,
   "metadata": {
    "ExecuteTime": {
     "end_time": "2021-06-15T10:14:54.174135Z",
     "start_time": "2021-06-15T10:14:53.719443Z"
    }
   },
   "outputs": [],
   "source": [
    "visualise_seg(gen.__getitem__(300)[0],wn.encoder)\n"
   ]
  },
  {
   "cell_type": "code",
   "execution_count": null,
   "metadata": {
    "ExecuteTime": {
     "end_time": "2021-06-15T10:14:45.550197Z",
     "start_time": "2021-06-15T10:14:45.372086Z"
    }
   },
   "outputs": [],
   "source": [
    "seg = encoder(image_ref)\n",
    "ag = tf.math.argmax(seg, axis=-1, output_type=tf.dtypes.int64)[0]\n",
    "ag = ag.numpy()\n",
    "ag = ag *255 /ag.max()\n",
    "print(ag.shape)\n",
    "plt.imshow(ag)"
   ]
  },
  {
   "cell_type": "code",
   "execution_count": null,
   "metadata": {
    "ExecuteTime": {
     "end_time": "2021-06-15T10:10:47.421166Z",
     "start_time": "2021-06-15T10:10:47.238374Z"
    }
   },
   "outputs": [],
   "source": [
    "seg = encoder(image_ref)\n",
    "ag = tf.math.argmax(seg, axis=-1, output_type=tf.dtypes.int64)[0]\n",
    "ag = ag.numpy()\n",
    "ag = ag *255 /ag.max()\n",
    "print(ag.shape)\n",
    "plt.imshow(ag)"
   ]
  },
  {
   "cell_type": "code",
   "execution_count": null,
   "metadata": {
    "ExecuteTime": {
     "end_time": "2021-06-15T10:16:28.991792Z",
     "start_time": "2021-06-15T10:16:28.928864Z"
    }
   },
   "outputs": [],
   "source": [
    "def set_learning_rate(step_counter,model,base_lr):\n",
    "    if(step_counter>=1000):\n",
    "        new_lr = base_lr/(10**(step_counter//1000))\n",
    "    else:\n",
    "        new_lr = base_lr\n",
    "    model.optimizer.lr = new_lr\n",
    "    \n",
    "def training(model,train_dataset,epochs,start_epoch,base_lr,ckpt_freq,ckpt_dir_path,log_dir_path,img_dir_path,image_ref):\n",
    "  \n",
    "    step_counter=0\n",
    "    writer = tf.summary.create_file_writer(log_dir_path)\n",
    "    \n",
    "    print(epochs)\n",
    "    print(start_epoch)\n",
    "    \n",
    "    for epoch in range(start_epoch,epochs):\n",
    "        set_learning_rate(epoch,model,base_lr)\n",
    "\n",
    "        print(\"\\nStart of epoch %d\" % (epoch,))\n",
    "        print(\"Learning rate\" +str(model.optimizer.lr))\n",
    "\n",
    "\n",
    "\n",
    "        ##TRAIN\n",
    "        total_train_loss_encoder = []\n",
    "        total_train_loss_decoder = []\n",
    "\n",
    "        for step, x_batch_train in enumerate(train_dataset):\n",
    "            step_counter+=1\n",
    "            set_learning_rate(step_counter,model,base_lr)\n",
    "\n",
    "            train_losses = model.train_step(x_batch_train)\n",
    "\n",
    "            train_losses_encoder=train_losses[\"loss_encoder\"]\n",
    "            train_losses_decoder=train_losses[\"loss_decoder\"]\n",
    "\n",
    "            total_train_loss_encoder.append(train_losses_encoder.numpy())\n",
    "            total_train_loss_decoder.append(train_losses_decoder.numpy())\n",
    "\n",
    "            if step_counter%ckpt_freq ==0:\n",
    "                ckpt_name=\"ckpt\"+str(step_counter)\n",
    "                model.save_weights(ckpt_dir_path)\n",
    "            if step_counter%1==0:\n",
    "                print(\"step \"+str(step) ) \n",
    "                print('enc loss ',train_losses_encoder)\n",
    "                print('dec loss ' ,train_losses_decoder)\n",
    "\n",
    "            if step_counter%50==0:\n",
    "                res = model(image_ref).numpy()[0]\n",
    "                res = rescale(res)\n",
    "                Image.fromarray(res).save(img_dir_path+\"/reconstruction_step\"+ str(step_counter)+\"_.png\")\n",
    "\n",
    "                seg = model.encoder(image_ref)\n",
    "                ag = tf.math.argmax(seg, axis=-1, output_type=tf.dtypes.int64)[0]\n",
    "                ag = ag.numpy()\n",
    "                ag = ag *255 /ag.max()\n",
    "                Image.fromarray(ag).convert(\"L\").save(img_dir_path+\"/segmentation_step\"+ str(step_counter)+\"_.png\")\n",
    "\n",
    "\n",
    "        final_train_loss_decoder = np.mean(np.array(total_train_loss_decoder))\n",
    "        final_train_loss_encoder = np.mean(np.array(total_train_loss_encoder))\n",
    "\n",
    "        print(\"TRAIN LOSS ENCODER : \", final_train_loss_encoder)\n",
    "        print(\"TRAIN LOSS DECODER : \", final_train_loss_decoder)\n",
    "\n",
    "\n",
    "\n",
    "     ##TEST\n",
    "    \"\"\"\n",
    "    print('START TEST')\n",
    "\n",
    "    total_test_loss_encoder = []\n",
    "    total_test_loss_decoder = []\n",
    "\n",
    "    for _, x_batch_test in enumerate(test_dataset):\n",
    "\n",
    "        test_losses = model.test_step(x_batch_test)\n",
    "        test_losses_encoder=test_losses[\"loss_encoder\"]\n",
    "        test_losses_decoder=test_losses[\"loss_decoder\"]\n",
    "\n",
    "        total_test_loss_encoder.append(test_losses_encoder)\n",
    "        total_test_loss_decoder.append(test_losses_decoder)\n",
    "\n",
    "    final_test_loss_decoder = np.mean(np.array(total_test_loss_decoder.numpy()))\n",
    "    final_test_loss_encoder = np.mean(np.array(total_test_loss_encoder.numpy()))\n",
    "\n",
    "    print(\"TEST LOSS ENCODER : \", final_test_loss_encoder)\n",
    "    print(\"TEST LOSS DECODER : \", final_test_loss_decoder)\n",
    "\n",
    "    \"\"\"\n",
    "    with writer.as_default():\n",
    "        tf.summary.scalar('training loss encoder', final_train_loss_encoder, step=epoch)\n",
    "        tf.summary.scalar('training loss decoder', final_train_loss_decoder, step=epoch)\n",
    "        tf.summary.scalar('training loss', final_train_loss_encoder+final_train_loss_decoder, step=epoch)\n",
    "\n",
    "        tf.summary.scalar('test loss encoder', final_test_loss_encoder, step=epoch)\n",
    "        tf.summary.scalar('test loss decoder', final_test_loss_decoder, step=epoch)\n",
    "        tf.summary.scalar('test loss', final_test_loss_decoder+final_test_loss_encoder, step=epoch)\n",
    "    \n"
   ]
  },
  {
   "cell_type": "code",
   "execution_count": null,
   "metadata": {
    "ExecuteTime": {
     "start_time": "2021-06-15T10:16:27.167Z"
    }
   },
   "outputs": [],
   "source": [
    "epochs=5000\n",
    "base_lr=0.01\n",
    "ckpt_freq=1000\n",
    "start_epoch=0\n",
    "ckpt_dir_path = 'wnet1/cpkts'\n",
    "log_dir_path = 'wnet1/logs'\n",
    "img_dir_path = 'wnet1/imgs'\n",
    "image_ref =  tf.expand_dims(items[1],0)\n",
    "\n",
    "training(wn,gen,epochs,start_epoch,base_lr,ckpt_freq,ckpt_dir_path,log_dir_path,img_dir_path,image_ref)\n"
   ]
  },
  {
   "cell_type": "code",
   "execution_count": null,
   "metadata": {},
   "outputs": [],
   "source": [
    "tf.config.list_physical_devices('CPU')"
   ]
  },
  {
   "cell_type": "code",
   "execution_count": null,
   "metadata": {
    "ExecuteTime": {
     "end_time": "2021-06-15T10:03:14.744372Z",
     "start_time": "2021-06-15T10:03:14.448793Z"
    }
   },
   "outputs": [],
   "source": [
    "\n",
    "print(\"Num GPUs Available: \", len(tf.config.list_physical_devices('GPU')))\n"
   ]
  },
  {
   "cell_type": "code",
   "execution_count": null,
   "metadata": {},
   "outputs": [],
   "source": [
    "pwd\n"
   ]
  },
  {
   "cell_type": "code",
   "execution_count": null,
   "metadata": {},
   "outputs": [],
   "source": [
    "'checkpoint' in os.listdir()"
   ]
  },
  {
   "cell_type": "code",
   "execution_count": null,
   "metadata": {},
   "outputs": [],
   "source": [
    "\n",
    "import yaml\n",
    "\n",
    "with open(\"checkpoint\", 'r') as stream:\n",
    "    try:\n",
    "        data = (yaml.safe_load(stream))\n",
    "    except yaml.YAMLError as exc:\n",
    "        print(exc)"
   ]
  },
  {
   "cell_type": "code",
   "execution_count": null,
   "metadata": {},
   "outputs": [],
   "source": [
    "data"
   ]
  },
  {
   "cell_type": "code",
   "execution_count": null,
   "metadata": {},
   "outputs": [],
   "source": [
    "data[\"model_checkpoint_path\"].replace('ckpt','')"
   ]
  },
  {
   "cell_type": "code",
   "execution_count": null,
   "metadata": {},
   "outputs": [],
   "source": []
  }
 ],
 "metadata": {
  "kernelspec": {
   "display_name": "Environment (conda_jeremy)",
   "language": "python",
   "name": "conda_jeremy"
  },
  "language_info": {
   "codemirror_mode": {
    "name": "ipython",
    "version": 3
   },
   "file_extension": ".py",
   "mimetype": "text/x-python",
   "name": "python",
   "nbconvert_exporter": "python",
   "pygments_lexer": "ipython3",
   "version": "3.8.8"
  },
  "toc": {
   "base_numbering": 1,
   "nav_menu": {},
   "number_sections": true,
   "sideBar": true,
   "skip_h1_title": false,
   "title_cell": "Table of Contents",
   "title_sidebar": "Contents",
   "toc_cell": false,
   "toc_position": {},
   "toc_section_display": true,
   "toc_window_display": false
  }
 },
 "nbformat": 4,
 "nbformat_minor": 4
}
